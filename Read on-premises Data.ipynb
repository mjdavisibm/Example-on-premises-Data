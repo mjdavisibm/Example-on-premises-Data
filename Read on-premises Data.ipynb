{
    "nbformat_minor": 1, 
    "cells": [
        {
            "execution_count": 20, 
            "cell_type": "code", 
            "metadata": {}, 
            "outputs": [], 
            "source": "# The code was removed by DSX for sharing."
        }, 
        {
            "execution_count": 4, 
            "cell_type": "code", 
            "metadata": {
                "collapsed": true
            }, 
            "outputs": [
                {
                    "ename": "SyntaxError", 
                    "evalue": "invalid syntax (<ipython-input-4-504bd9a2a27c>, line 21)", 
                    "traceback": [
                        "\u001b[0;36m  File \u001b[0;32m\"<ipython-input-4-504bd9a2a27c>\"\u001b[0;36m, line \u001b[0;32m21\u001b[0m\n\u001b[0;31m    if(e2['interface']=='public'and e2['region']=='dallas'): url2 = ''.join([e2['url'],'/', credentials['container'], '/', credentials['filename']]) s_subject_token = resp1.headers['x-subject-token'] headers2 = {'X-Auth-Token': s_subject_token, 'accept': 'application/json'}\u001b[0m\n\u001b[0m                                                                                                                                                                   ^\u001b[0m\n\u001b[0;31mSyntaxError\u001b[0m\u001b[0;31m:\u001b[0m invalid syntax\n"
                    ], 
                    "output_type": "error"
                }
            ], 
            "source": "from io import BytesIO\nimport requests \nimport json \nimport pandas as pd \n\ndef get_data(credentials): \n    \"\"\"This functions returns a StringIO object containing the file content from Bluemix Object Storage V3.\"\"\" \n\n    url1 = ''.join(['https://identity.open.softlayer.com', '/v3/auth/tokens']) \n\n    data = {'auth': {'identity': \n                     {'methods': ['password'],\n                      'password': {'user': {'name': credentials['username'],\n                                            'domain': {'id': credentials['domain_id']},\n                                            'password': credentials['password']}}}}} \n\n    headers1 = {'Content-Type': 'application/json'} \n    resp1 = requests.post(url=url1, data=json.dumps(data), headers=headers1) \n\n    resp1_body = resp1.json() \n\n    for e1 in resp1_body['token']['catalog']:\n        if(e1['type']=='object-store'): \n            for e2 in e1['endpoints']:   \n                if(e2['interface']=='public'and e2['region']=='dallas'): url2 = ''.join([e2['url'],'/', credentials['container'], '/', credentials['filename']]) s_subject_token = resp1.headers['x-subject-token'] headers2 = {'X-Auth-Token': s_subject_token, 'accept': 'application/json'} \n\nresp2 = requests.get(url=url2, headers=headers2) \n\nreturn json.loads(resp2.content)"
        }, 
        {
            "execution_count": 3, 
            "cell_type": "code", 
            "metadata": {
                "collapsed": true
            }, 
            "outputs": [
                {
                    "ename": "SyntaxError", 
                    "evalue": "invalid syntax (<ipython-input-3-d1b3e8dbe415>, line 1)", 
                    "traceback": [
                        "\u001b[0;36m  File \u001b[0;32m\"<ipython-input-3-d1b3e8dbe415>\"\u001b[0;36m, line \u001b[0;32m1\u001b[0m\n\u001b[0;31m    my_json = get_data(credentials_1) my_json_df = pd.DataFrame.from_dict(my_json)\u001b[0m\n\u001b[0m                                               ^\u001b[0m\n\u001b[0;31mSyntaxError\u001b[0m\u001b[0;31m:\u001b[0m invalid syntax\n"
                    ], 
                    "output_type": "error"
                }
            ], 
            "source": "my_json = get_data(credentials_1) \nmy_json_df = pd.DataFrame.from_dict(my_json)"
        }, 
        {
            "execution_count": null, 
            "cell_type": "code", 
            "metadata": {
                "collapsed": true
            }, 
            "outputs": [], 
            "source": "from ibm_botocore.client import Config\nimport ibm_boto3\n\ndef get_cos_client(credentials):\n    return ibm_boto3.client(service_name='s3',\n        ibm_api_key_id=credentials['api_key'],\n        ibm_service_instance_id=credentials['IAM_SERVICE_ID'],\n        ibm_auth_endpoint=credentials['IBM_AUTH_ENDPOINT'],\n        config=Config(signature_version='oauth'),\n        endpoint_url=credentials['url'])\n\ncos = get_cos_client(credentials_2)"
        }, 
        {
            "execution_count": 5, 
            "cell_type": "code", 
            "metadata": {
                "collapsed": true
            }, 
            "outputs": [], 
            "source": "# The code was removed by DSX for sharing."
        }, 
        {
            "source": "https://console.bluemix.net/docs/services/cloud-object-storage/libraries/python.html#using-python (but modified somewhat)\nhttps://ibm.github.io/ibm-cos-sdk-python/index.html (for API reference for ibm_boto3)", 
            "cell_type": "markdown", 
            "metadata": {}
        }, 
        {
            "execution_count": 28, 
            "cell_type": "code", 
            "metadata": {}, 
            "outputs": [
                {
                    "output_type": "stream", 
                    "name": "stdout", 
                    "text": "Service credential:\n{\n  \"url\": \"s3-api.us-geo.objectstorage.softlayer.net\",\n  \"resource_instance_id\": \"crn:v1:bluemix:public:cloud-object-storage:global:a/1ea27dce593f7ea32717faf209329505:c7990c87-0cb7-4983-b1e9-7c120e3cb7c9::\",\n  \"iam_url\": \"https://iam.ng.bluemix.net/oidc/token\",\n  \"api_key\": \"-KbRYiiR6gLNL3cesDKtx28rR7Up4-6TCqk3H8O9u-nt\"\n}\n\nConnecting to COS...\nCreating client...\nCurrent Bucket List:\n[\n  \"accessingonpremisesdata-donotdelete-pr-4eklvxqh2goyiy\",\n  \"firstcatalog-datacatalog-hjlehqmfg\",\n  \"mjdavis-example-on-premises-data\",\n  \"sizingampcostingdeals939f08e729874753a2b4dad942917508\",\n  \"vzdvrimagerecognition-donotdelete-pr-bs8gufgprdamdl\"\n]\n---\nObjects in mjdavis-example-on-premises-data:\n[\n  \"on_premises_Example_PCI_Data.csv\"\n]\n"
                }
            ], 
            "source": "import ibm_boto3\nimport json\nfrom ibm_botocore.client import Config\n\ncredentials = credentials_1\n\nprint(\"Service credential:\")\nprint(json.dumps(credentials, indent=2))\nprint(\"\")\nprint(\"Connecting to COS...\")\n\n# Obtain iam and cos host from the the detailed endpoints\ncos_host = credentials.get('url')\n\napi_key = credentials.get('api_key')\nservice_instance_id = credentials.get('resource_instance_id')\n\n# Constrict auth and cos endpoint\nauth_endpoint = credentials.get('iam_url')\nservice_endpoint = \"https://\" + cos_host\n\nprint(\"Creating client...\")\n# Get bucket list\ncos = ibm_boto3.client('s3',\n                    ibm_api_key_id=api_key,\n                    ibm_service_instance_id=service_instance_id,\n                    ibm_auth_endpoint=auth_endpoint,\n                    config=Config(signature_version='oauth'),\n                    endpoint_url=service_endpoint)\n# Call COS to list current buckets\nresponse = cos.list_buckets()\n\n# Get a list of all bucket names from the response\nbuckets = [bucket['Name'] for bucket in response['Buckets']]\n\n# Print out the bucket list\nprint(\"Current Bucket List:\")\nprint(json.dumps(buckets, indent=2))\nprint(\"---\")\n\nbucket_name = \"mjdavis-example-on-premises-data\"\n\n# Call COS to list current objects\nresponse = cos.list_objects(Bucket=bucket_name)\n\n# Get a list of all object names from the response\nobjects = [object['Key'] for object in response['Contents']]\n\n# Print out the object list\nprint(\"Objects in %s:\" % bucket_name)\nprint(json.dumps(objects, indent=2))"
        }, 
        {
            "execution_count": null, 
            "cell_type": "code", 
            "metadata": {
                "collapsed": true
            }, 
            "outputs": [], 
            "source": "import pandas as pd \n\ncos_file = \"on_premises_Example_PCI_Data.csv\"\nresp2 = requests.get(url=url2, headers=headers2) \n\nreturn json.loads(resp2.content)\n\n\nmy_json = get_data(credentials_1) \nmy_json_df = pd.DataFrame.from_dict(my_json)\npd"
        }
    ], 
    "metadata": {
        "kernelspec": {
            "display_name": "Python 3.5", 
            "name": "python3", 
            "language": "python"
        }, 
        "language_info": {
            "mimetype": "text/x-python", 
            "nbconvert_exporter": "python", 
            "version": "3.5.4", 
            "name": "python", 
            "file_extension": ".py", 
            "pygments_lexer": "ipython3", 
            "codemirror_mode": {
                "version": 3, 
                "name": "ipython"
            }
        }
    }, 
    "nbformat": 4
}